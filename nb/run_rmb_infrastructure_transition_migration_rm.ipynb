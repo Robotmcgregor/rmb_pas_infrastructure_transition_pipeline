{
 "cells": [
  {
   "cell_type": "markdown",
   "metadata": {},
   "source": [
    "# Run RMB Infrastructure Transition Pipeline"
   ]
  },
  {
   "cell_type": "markdown",
   "metadata": {},
   "source": [
    "#### Navigate to the RMB infrastructure transition pipeline scripts"
   ]
  },
  {
   "cell_type": "code",
   "execution_count": 1,
   "metadata": {},
   "outputs": [
    {
     "name": "stdout",
     "output_type": "stream",
     "text": [
      "E:\\DEPWS\\code\\rangeland_monitoring\\rmb_infrastructure_transition_pipeline\\code\n"
     ]
    }
   ],
   "source": [
    "cd ../code/"
   ]
  },
  {
   "cell_type": "code",
   "execution_count": 2,
   "metadata": {},
   "outputs": [
    {
     "name": "stdout",
     "output_type": "stream",
     "text": [
      "usage: step1_1_initiate_rmb_infrastructure_transition_pipeline.py\n",
      "       [-h] [-x OUTPUT_DIR] [-pd PASTORAL_DISTRICTS_DIRECTORY]\n",
      "       [-r REMOTE_DESKTOP] [-t TRANSITION_DIR] [-a ASSETS_DIR] [-y YEAR]\n",
      "\n",
      "Collate all finalised spatial data and maps into the transition directory.\n",
      "Transitioned data has been processed area calculated and attributes cleaned.\n",
      "\n",
      "optional arguments:\n",
      "  -h, --help            show this help message and exit\n",
      "  -x OUTPUT_DIR, --output_dir OUTPUT_DIR\n",
      "                        Directory path for outputs.\n",
      "  -pd PASTORAL_DISTRICTS_DIRECTORY, --pastoral_districts_directory PASTORAL_DISTRICTS_DIRECTORY\n",
      "                        Enter path to the Pastoral_Districts directory in the\n",
      "                        Spatial/Working drive)\n",
      "  -r REMOTE_DESKTOP, --remote_desktop REMOTE_DESKTOP\n",
      "                        Working on the remote_desktop? - Enter remote_auto,\n",
      "                        remote, local or offline.\n",
      "  -t TRANSITION_DIR, --transition_dir TRANSITION_DIR\n",
      "                        Directory path for outputs.\n",
      "  -a ASSETS_DIR, --assets_dir ASSETS_DIR\n",
      "                        Directory path containing required shapefile\n",
      "                        structure.\n",
      "  -y YEAR, --year YEAR  Enter the year (i.e. 2001).\n"
     ]
    }
   ],
   "source": [
    "# run the pipeline help\n",
    "%run step1_1_initiate_rmb_infrastructure_transition_pipeline.py -h"
   ]
  },
  {
   "cell_type": "markdown",
   "metadata": {},
   "source": [
    "# Test"
   ]
  },
  {
   "cell_type": "code",
   "execution_count": null,
   "metadata": {
    "scrolled": true
   },
   "outputs": [],
   "source": [
    "#run the RMB infrastructure transition pipeline\n",
    "%run step1_1_initiate_rmb_infrastructure_transition_pipeline.py -y 2021 \\\n",
    "-pd Z:\\Scratch\\Rob\\pastoral_districts_test_env\\Pastoral_Districts \\\n",
    "    -t Z:\\Scratch\\Zonal_Stats_Pipeline\\rmb_infrastructure_upload\\test_env\\Transition"
   ]
  },
  {
   "cell_type": "markdown",
   "metadata": {},
   "source": [
    "# Actual files"
   ]
  },
  {
   "cell_type": "code",
   "execution_count": 4,
   "metadata": {},
   "outputs": [
    {
     "name": "stdout",
     "output_type": "stream",
     "text": [
      "==================================================\n",
      "LOCATION OF PREVIOUS TRANSITION DIRECTORY:  U:\\Pastoral_Infrastructure\\Transition\\Previous_Transfer\n",
      "LOCATION OF MIGRATION DIRECTORY:  U:\\Pastoral_Infrastructure\\Transition\\For_Migration\n",
      "==================================================\n",
      "Collecting all  2021  data\n",
      "NT_Pastoral_Estate.shp located.\n",
      "primary_output_dir:  Z:\\Scratch\\Zonal_Stats_Pipeline\\rmb_infrastructure_upload\\outputs\\rmcgr_20220901_0831\n",
      "Checking that the shapefile geometry is accurate.....\n",
      "Files located for processing:\n",
      "================================================================================\n",
      "==================================================\n",
      "POINTS\n",
      "Checking column names and lengths....\n",
      " - Correct dataframes:  0\n",
      " - Incorrect dataframes:  0\n",
      "--------------------------------------------------\n",
      "LINES\n",
      " - Correct dataframes:  0\n",
      " - Incorrect dataframes:  0\n",
      "--------------------------------------------------\n",
      "POLYGONS\n",
      " - Correct dataframes:  0\n",
      " - Incorrect dataframes:  0\n",
      "--------------------------------------------------\n",
      "PADDOCKS\n",
      " - Correct dataframes:  0\n",
      " - Incorrect dataframes:  0\n",
      "==================================================\n",
      "Faulty data\n",
      "directory_list:  ['Points', 'Lines', 'Polygons', 'Paddocks']\n",
      "Z:\\Scratch\\Zonal_Stats_Pipeline\\rmb_infrastructure_upload\\outputs\\rmcgr_20220901_0831\\Faulty\\Points\n",
      "Z:\\Scratch\\Zonal_Stats_Pipeline\\rmb_infrastructure_upload\\outputs\\rmcgr_20220901_0831\\Faulty\\Lines\n",
      "Z:\\Scratch\\Zonal_Stats_Pipeline\\rmb_infrastructure_upload\\outputs\\rmcgr_20220901_0831\\Faulty\\Polygons\n",
      "Z:\\Scratch\\Zonal_Stats_Pipeline\\rmb_infrastructure_upload\\outputs\\rmcgr_20220901_0831\\Faulty\\Paddocks\n",
      "the following files have been upload to the transfer dive and the originals will be deleted:\n",
      "==================================================\n",
      " - looking for pdf maps....\n",
      " -- No maps located in .....  U:\\Pastoral_Districts\\Barkly\\ADR_Adder\\Infrastructure\\Server_Upload\\2021\\pdf_maps\n",
      " -- No maps located in .....  U:\\Pastoral_Districts\\Barkly\\ARD_Alroy_Downs\\Infrastructure\\Server_Upload\\2021\\pdf_maps\n",
      " -- No maps located in .....  U:\\Pastoral_Districts\\Barkly\\ASD_Austral_Downs\\Infrastructure\\Server_Upload\\2021\\pdf_maps\n",
      " -- No maps located in .....  U:\\Pastoral_Districts\\Barkly\\ATL_Anthony_Lagoon\\Infrastructure\\Server_Upload\\2021\\pdf_maps\n",
      " -- No maps located in .....  U:\\Pastoral_Districts\\Barkly\\AVD_Avon_Downs\\Infrastructure\\Server_Upload\\2021\\pdf_maps\n",
      " -- No maps located in .....  U:\\Pastoral_Districts\\Barkly\\AXA_Alexandria\\Infrastructure\\Server_Upload\\2021\\pdf_maps\n",
      " -- No maps located in .....  U:\\Pastoral_Districts\\Barkly\\BCY_Brunchilly\\Infrastructure\\Server_Upload\\2021\\pdf_maps\n",
      " -- No maps located in .....  U:\\Pastoral_Districts\\Barkly\\BKE_Banka_Banka_East\\Infrastructure\\Server_Upload\\2021\\pdf_maps\n",
      " -- No maps located in .....  U:\\Pastoral_Districts\\Barkly\\BKW_Banka_Banka_West\\Infrastructure\\Server_Upload\\2021\\pdf_maps\n",
      " -- No maps located in .....  U:\\Pastoral_Districts\\Barkly\\BMA_Benmara\\Infrastructure\\Server_Upload\\2021\\pdf_maps\n",
      " -- No maps located in .....  U:\\Pastoral_Districts\\Barkly\\BND_Brunette_Downs\\Infrastructure\\Server_Upload\\2021\\pdf_maps\n",
      " -- No maps located in .....  U:\\Pastoral_Districts\\Barkly\\BRM_Burramurra\\Infrastructure\\Server_Upload\\2021\\pdf_maps\n",
      " -- No maps located in .....  U:\\Pastoral_Districts\\Barkly\\BTL_Beetaloo\\Infrastructure\\Server_Upload\\2021\\pdf_maps\n",
      " -- No maps located in .....  U:\\Pastoral_Districts\\Barkly\\CRW_Cresswell_Downs\\Infrastructure\\Server_Upload\\2021\\pdf_maps\n",
      " -- No maps located in .....  U:\\Pastoral_Districts\\Barkly\\DLD_Dalmore_Downs\\Infrastructure\\Server_Upload\\2021\\pdf_maps\n",
      " -- No maps located in .....  U:\\Pastoral_Districts\\Barkly\\ERK_East_Ranken\\Infrastructure\\Server_Upload\\2021\\pdf_maps\n",
      " -- No maps located in .....  U:\\Pastoral_Districts\\Barkly\\EVD_Eva_Downs\\Infrastructure\\Server_Upload\\2021\\pdf_maps\n",
      " -- No maps located in .....  U:\\Pastoral_Districts\\Barkly\\GGD_Georgina_Downs\\Infrastructure\\Server_Upload\\2021\\pdf_maps\n",
      " -- No maps located in .....  U:\\Pastoral_Districts\\Barkly\\HLS_Helen_Springs\\Infrastructure\\Server_Upload\\2021\\pdf_maps\n",
      " -- No maps located in .....  U:\\Pastoral_Districts\\Barkly\\LKN_Lake_Nash\\Infrastructure\\Server_Upload\\2021\\pdf_maps\n",
      " -- No maps located in .....  U:\\Pastoral_Districts\\Barkly\\MDM_Mount_Drummond\\Infrastructure\\Server_Upload\\2021\\pdf_maps\n",
      " -- No maps located in .....  U:\\Pastoral_Districts\\Barkly\\MGB_Mungabroom\\Infrastructure\\Server_Upload\\2021\\pdf_maps\n",
      " -- No maps located in .....  U:\\Pastoral_Districts\\Barkly\\MTB_Mittiebah\\Infrastructure\\Server_Upload\\2021\\pdf_maps\n",
      " -- No maps located in .....  U:\\Pastoral_Districts\\Barkly\\NCW_Newcastle_Waters\\Infrastructure\\Server_Upload\\2021\\pdf_maps\n",
      " -- No maps located in .....  U:\\Pastoral_Districts\\Barkly\\PWC_Powell_Creek\\Infrastructure\\Server_Upload\\2021\\pdf_maps\n",
      " -- No maps located in .....  U:\\Pastoral_Districts\\Barkly\\RHD_Rockhampton_Downs\\Infrastructure\\Server_Upload\\2021\\pdf_maps\n",
      " -- No maps located in .....  U:\\Pastoral_Districts\\Barkly\\RKL_Rocklands\\Infrastructure\\Server_Upload\\2021\\pdf_maps\n",
      " -- No maps located in .....  U:\\Pastoral_Districts\\Barkly\\SDN_Soudan\\Infrastructure\\Server_Upload\\2021\\pdf_maps\n",
      " -- No maps located in .....  U:\\Pastoral_Districts\\Barkly\\TDG_Tandyidgee\\Infrastructure\\Server_Upload\\2021\\pdf_maps\n",
      " -- No maps located in .....  U:\\Pastoral_Districts\\Barkly\\URG_Ucharonidge\\Infrastructure\\Server_Upload\\2021\\pdf_maps\n",
      " -- No maps located in .....  U:\\Pastoral_Districts\\Barkly\\WLH_Walhallow\\Infrastructure\\Server_Upload\\2021\\pdf_maps\n",
      " -- No maps located in .....  U:\\Pastoral_Districts\\Barkly\\WRK_West_Ranken\\Infrastructure\\Server_Upload\\2021\\pdf_maps\n",
      " -- No maps located in .....  U:\\Pastoral_Districts\\Darwin\\BBS_Ban_Ban_Springs\\Infrastructure\\Server_Upload\\2021\\pdf_maps\n",
      " -- No maps located in .....  U:\\Pastoral_Districts\\Darwin\\BCK_Bridge_Creek\\Infrastructure\\Server_Upload\\2021\\pdf_maps\n",
      " -- No maps located in .....  U:\\Pastoral_Districts\\Darwin\\BRK_Bonrook\\Infrastructure\\Server_Upload\\2021\\pdf_maps\n",
      " -- No maps located in .....  U:\\Pastoral_Districts\\Darwin\\CLV_Claravale\\Infrastructure\\Server_Upload\\2021\\pdf_maps\n",
      " -- No maps located in .....  U:\\Pastoral_Districts\\Darwin\\DGL_Douglas\\Infrastructure\\Server_Upload\\2021\\pdf_maps\n",
      " -- No maps located in .....  U:\\Pastoral_Districts\\Darwin\\DGS_Douglas_South\\Infrastructure\\Server_Upload\\2021\\pdf_maps\n",
      " -- No maps located in .....  U:\\Pastoral_Districts\\Darwin\\DGW_Douglas_West\\Infrastructure\\Server_Upload\\2021\\pdf_maps\n",
      " -- No maps located in .....  U:\\Pastoral_Districts\\Darwin\\DVL_Dorisvale\\Infrastructure\\Server_Upload\\2021\\pdf_maps\n",
      " -- No maps located in .....  U:\\Pastoral_Districts\\Darwin\\ELD_Elizabeth_Downs\\Infrastructure\\Server_Upload\\2021\\pdf_maps\n",
      " -- No maps located in .....  U:\\Pastoral_Districts\\Darwin\\JDR_Jindare\\Infrastructure\\Server_Upload\\2021\\pdf_maps\n",
      " -- No maps located in .....  U:\\Pastoral_Districts\\Darwin\\KPH_Koolpinyah\\Infrastructure\\Server_Upload\\2021\\pdf_maps\n",
      " -- No maps located in .....  U:\\Pastoral_Districts\\Darwin\\LBD_Labelle_Downs\\Infrastructure\\Server_Upload\\2021\\pdf_maps\n",
      " -- No maps located in .....  U:\\Pastoral_Districts\\Darwin\\LTF_Litchfield\\Infrastructure\\Server_Upload\\2021\\pdf_maps\n",
      " -- No maps located in .....  U:\\Pastoral_Districts\\Darwin\\MKI_Marrakai\\Infrastructure\\Server_Upload\\2021\\pdf_maps\n",
      " -- No maps located in .....  U:\\Pastoral_Districts\\Darwin\\MKP_Mount_Keppler\\Infrastructure\\Server_Upload\\2021\\pdf_maps\n",
      " -- No maps located in .....  U:\\Pastoral_Districts\\Darwin\\MKY_McKinlay_River\\Infrastructure\\Server_Upload\\2021\\pdf_maps\n",
      " -- No maps located in .....  U:\\Pastoral_Districts\\Darwin\\MRE_Mary_River_East\\Infrastructure\\Server_Upload\\2021\\pdf_maps\n",
      " -- No maps located in .....  U:\\Pastoral_Districts\\Darwin\\MRG_Mount_Ringwood\\Infrastructure\\Server_Upload\\2021\\pdf_maps\n",
      " -- No maps located in .....  U:\\Pastoral_Districts\\Darwin\\MRW_Mary_River_West\\Infrastructure\\Server_Upload\\2021\\pdf_maps\n",
      " -- No maps located in .....  U:\\Pastoral_Districts\\Darwin\\OMB_Old_Mount_Bundey\\Infrastructure\\Server_Upload\\2021\\pdf_maps\n",
      " -- No maps located in .....  U:\\Pastoral_Districts\\Darwin\\TPY_Tipperary\\Infrastructure\\Server_Upload\\2021\\pdf_maps\n",
      " -- No maps located in .....  U:\\Pastoral_Districts\\Darwin\\WLT_Welltree\\Infrastructure\\Server_Upload\\2021\\pdf_maps\n",
      " -- No maps located in .....  U:\\Pastoral_Districts\\Darwin\\WNR_Woolner\\Infrastructure\\Server_Upload\\2021\\pdf_maps\n",
      " -- No maps located in .....  U:\\Pastoral_Districts\\Gulf\\AMG_Amungee_Mungee\\Infrastructure\\Server_Upload\\2021\\pdf_maps\n",
      " -- No maps located in .....  U:\\Pastoral_Districts\\Gulf\\BDM_Broadmere\\Infrastructure\\Server_Upload\\2021\\pdf_maps\n",
      " -- No maps located in .....  U:\\Pastoral_Districts\\Gulf\\CVH_Calvert_Hills\\Infrastructure\\Server_Upload\\2021\\pdf_maps\n",
      " -- No maps located in .....  U:\\Pastoral_Districts\\Gulf\\GBK_Greenbank\\Infrastructure\\Server_Upload\\2021\\pdf_maps\n",
      " -- No maps located in .....  U:\\Pastoral_Districts\\Gulf\\HDR_Hodgson_River\\Infrastructure\\Server_Upload\\2021\\pdf_maps\n",
      " -- No maps located in .....  U:\\Pastoral_Districts\\Gulf\\KNA_Kiana\\Infrastructure\\Server_Upload\\2021\\pdf_maps\n",
      " -- No maps located in .....  U:\\Pastoral_Districts\\Gulf\\LRL_Lorella\\Infrastructure\\Server_Upload\\2021\\pdf_maps\n",
      " -- No maps located in .....  U:\\Pastoral_Districts\\Gulf\\MAR_McArthur_River\\Infrastructure\\Server_Upload\\2021\\pdf_maps\n",
      " -- No maps located in .....  U:\\Pastoral_Districts\\Gulf\\MLP_Mallapunyah\\Infrastructure\\Server_Upload\\2021\\pdf_maps\n",
      " -- No maps located in .....  U:\\Pastoral_Districts\\Gulf\\MNG_Manangoora\\Infrastructure\\Server_Upload\\2021\\pdf_maps\n",
      " -- No maps located in .....  U:\\Pastoral_Districts\\Gulf\\NWD_Nutwood_Downs\\Infrastructure\\Server_Upload\\2021\\pdf_maps\n",
      " -- No maps located in .....  U:\\Pastoral_Districts\\Gulf\\PGL_Pungalina\\Infrastructure\\Server_Upload\\2021\\pdf_maps\n",
      " -- No maps located in .....  U:\\Pastoral_Districts\\Gulf\\SPC_Spring_Creek\\Infrastructure\\Server_Upload\\2021\\pdf_maps\n",
      " -- No maps located in .....  U:\\Pastoral_Districts\\Gulf\\SVE_Seven_Emu\\Infrastructure\\Server_Upload\\2021\\pdf_maps\n",
      " -- No maps located in .....  U:\\Pastoral_Districts\\Gulf\\TMR_Tanumbirini\\Infrastructure\\Server_Upload\\2021\\pdf_maps\n",
      " -- No maps located in .....  U:\\Pastoral_Districts\\Gulf\\WLN_Wollogorang\\Infrastructure\\Server_Upload\\2021\\pdf_maps\n",
      " -- No maps located in .....  U:\\Pastoral_Districts\\Katherine\\ANA_Aroona\\Infrastructure\\Server_Upload\\2021\\pdf_maps\n",
      " -- No maps located in .....  U:\\Pastoral_Districts\\Katherine\\DXE_Dixie\\Infrastructure\\Server_Upload\\2021\\pdf_maps\n",
      " -- No maps located in .....  U:\\Pastoral_Districts\\Katherine\\FLR_Florina\\Infrastructure\\Server_Upload\\2021\\pdf_maps\n",
      " -- No maps located in .....  U:\\Pastoral_Districts\\Katherine\\KTD_Katherine_Downs\\Infrastructure\\Server_Upload\\2021\\pdf_maps\n",
      " -- No maps located in .....  U:\\Pastoral_Districts\\Katherine\\MBL_Manbulloo\\Infrastructure\\Server_Upload\\2021\\pdf_maps\n",
      " -- No maps located in .....  U:\\Pastoral_Districts\\Katherine\\MTH_Mathison\\Infrastructure\\Server_Upload\\2021\\pdf_maps\n",
      " -- No maps located in .....  U:\\Pastoral_Districts\\Katherine\\STC_Scott_Creek\\Infrastructure\\Server_Upload\\2021\\pdf_maps\n",
      " -- No maps located in .....  U:\\Pastoral_Districts\\Katherine\\STP_Stapleton\\Infrastructure\\Server_Upload\\2021\\pdf_maps\n",
      " -- No maps located in .....  U:\\Pastoral_Districts\\Katherine\\WLR_Willeroo\\Infrastructure\\Server_Upload\\2021\\pdf_maps\n",
      " -- No maps located in .....  U:\\Pastoral_Districts\\Non_Pastoral\\ABJ_Amanbidji\\Infrastructure\\Server_Upload\\2021\\pdf_maps\n",
      " -- No maps located in .....  U:\\Pastoral_Districts\\Non_Pastoral\\ACT_Alcoota\\Infrastructure\\Server_Upload\\2021\\pdf_maps\n",
      " -- No maps located in .....  U:\\Pastoral_Districts\\Non_Pastoral\\ATU_Atula\\Infrastructure\\Server_Upload\\2021\\pdf_maps\n",
      " -- No maps located in .....  U:\\Pastoral_Districts\\Non_Pastoral\\BBP_Brumby_Plains\\Infrastructure\\Server_Upload\\2021\\pdf_maps\n",
      " -- No maps located in .....  U:\\Pastoral_Districts\\Non_Pastoral\\BBR_Balbirini_Carpentaria\\Infrastructure\\Server_Upload\\2021\\pdf_maps\n",
      " -- No maps located in .....  U:\\Pastoral_Districts\\Non_Pastoral\\BDW_Bradshaw\\Infrastructure\\Server_Upload\\2021\\pdf_maps\n",
      " -- No maps located in .....  U:\\Pastoral_Districts\\Non_Pastoral\\BGH_Billengarrah\\Infrastructure\\Server_Upload\\2021\\pdf_maps\n",
      " -- No maps located in .....  U:\\Pastoral_Districts\\Non_Pastoral\\CBP_Carbeen_Park\\Infrastructure\\Server_Upload\\2021\\pdf_maps\n",
      " -- No maps located in .....  U:\\Pastoral_Districts\\Non_Pastoral\\CMW_Central_Mount_Wedge\\Infrastructure\\Server_Upload\\2021\\pdf_maps\n",
      " -- No maps located in .....  U:\\Pastoral_Districts\\Non_Pastoral\\ELY_Elsey\\Infrastructure\\Server_Upload\\2021\\pdf_maps\n",
      " -- No maps located in .....  U:\\Pastoral_Districts\\Non_Pastoral\\FSR_Fish_River\\Infrastructure\\Server_Upload\\2021\\pdf_maps\n",
      " -- No maps located in .....  U:\\Pastoral_Districts\\Non_Pastoral\\FZR_Fitzroy\\Infrastructure\\Server_Upload\\2021\\pdf_maps\n",
      " -- No maps located in .....  U:\\Pastoral_Districts\\Non_Pastoral\\HAB_Haasts_Bluff\\Infrastructure\\Server_Upload\\2021\\pdf_maps\n",
      " -- No maps located in .....  U:\\Pastoral_Districts\\Non_Pastoral\\HGD_Hodgson_Downs\\Infrastructure\\Server_Upload\\2021\\pdf_maps\n",
      " -- No maps located in .....  U:\\Pastoral_Districts\\Non_Pastoral\\KID_Kidman_Springs_Research_Station\\Infrastructure\\Server_Upload\\2021\\pdf_maps\n",
      " -- No maps located in .....  U:\\Pastoral_Districts\\Non_Pastoral\\LVC_Loves_Creek\\Infrastructure\\Server_Upload\\2021\\pdf_maps\n",
      " -- No maps located in .....  U:\\Pastoral_Districts\\Non_Pastoral\\MCL_McLaren_Creek\\Infrastructure\\Server_Upload\\2021\\pdf_maps\n",
      " -- No maps located in .....  U:\\Pastoral_Districts\\Non_Pastoral\\MSC_Mistake_Creek\\Infrastructure\\Server_Upload\\2021\\pdf_maps\n",
      " -- No maps located in .....  U:\\Pastoral_Districts\\Non_Pastoral\\MTR_Mataranka_Rural_College\\Infrastructure\\Server_Upload\\2021\\pdf_maps\n",
      " -- No maps located in .....  U:\\Pastoral_Districts\\Non_Pastoral\\NTR_Nathan_River\\Infrastructure\\Server_Upload\\2021\\pdf_maps\n",
      " -- No maps located in .....  U:\\Pastoral_Districts\\Non_Pastoral\\OPC_Opium_Creek\\Infrastructure\\Server_Upload\\2021\\pdf_maps\n",
      " -- No maps located in .....  U:\\Pastoral_Districts\\Non_Pastoral\\SML_Saw_Mill\\Infrastructure\\Server_Upload\\2021\\pdf_maps\n",
      " -- No maps located in .....  U:\\Pastoral_Districts\\Non_Pastoral\\TMD_Tanami_Downs\\Infrastructure\\Server_Upload\\2021\\pdf_maps\n",
      " -- No maps located in .....  U:\\Pastoral_Districts\\Non_Pastoral\\UPG_Urapunga\\Infrastructure\\Server_Upload\\2021\\pdf_maps\n",
      " -- No maps located in .....  U:\\Pastoral_Districts\\Northern_Alice\\ALM_Ambalindum\\Infrastructure\\Server_Upload\\2021\\pdf_maps\n",
      " -- No maps located in .....  U:\\Pastoral_Districts\\Northern_Alice\\ALN_Aileron\\Infrastructure\\Server_Upload\\2021\\pdf_maps\n",
      " -- No maps located in .....  U:\\Pastoral_Districts\\Northern_Alice\\AMB_Amburla\\Infrastructure\\Server_Upload\\2021\\pdf_maps\n",
      " -- No maps located in .....  U:\\Pastoral_Districts\\Northern_Alice\\ANG_Anningie\\Infrastructure\\Server_Upload\\2021\\pdf_maps\n",
      " -- No maps located in .....  U:\\Pastoral_Districts\\Northern_Alice\\BDS_Bond_Springs\\Infrastructure\\Server_Upload\\2021\\pdf_maps\n",
      " -- No maps located in .....  U:\\Pastoral_Districts\\Northern_Alice\\BSP_Bushy_Park\\Infrastructure\\Server_Upload\\2021\\pdf_maps\n",
      " -- No maps located in .....  U:\\Pastoral_Districts\\Northern_Alice\\CST_Coniston\\Infrastructure\\Server_Upload\\2021\\pdf_maps\n",
      " -- No maps located in .....  U:\\Pastoral_Districts\\Northern_Alice\\DLY_Delny\\Infrastructure\\Server_Upload\\2021\\pdf_maps\n",
      " -- No maps located in .....  U:\\Pastoral_Districts\\Northern_Alice\\DMD_Delmore_Downs\\Infrastructure\\Server_Upload\\2021\\pdf_maps\n",
      " -- No maps located in .....  U:\\Pastoral_Districts\\Northern_Alice\\DNR_Dneiper\\Infrastructure\\Server_Upload\\2021\\pdf_maps\n",
      " -- No maps located in .....  U:\\Pastoral_Districts\\Northern_Alice\\DWT_Derwent\\Infrastructure\\Server_Upload\\2021\\pdf_maps\n",
      " -- No maps located in .....  U:\\Pastoral_Districts\\Northern_Alice\\GHN_Glen_Helen\\Infrastructure\\Server_Upload\\2021\\pdf_maps\n",
      " -- No maps located in .....  U:\\Pastoral_Districts\\Northern_Alice\\HMD_Hamilton_Downs\\Infrastructure\\Server_Upload\\2021\\pdf_maps\n",
      " -- No maps located in .....  U:\\Pastoral_Districts\\Northern_Alice\\MCD_MacDonald_Downs\\Infrastructure\\Server_Upload\\2021\\pdf_maps\n",
      " -- No maps located in .....  U:\\Pastoral_Districts\\Northern_Alice\\MDR_Mount_Doreen\\Infrastructure\\Server_Upload\\2021\\pdf_maps\n",
      " -- No maps located in .....  U:\\Pastoral_Districts\\Northern_Alice\\MDS_Mount_Denison\\Infrastructure\\Server_Upload\\2021\\pdf_maps\n",
      " -- No maps located in .....  U:\\Pastoral_Districts\\Northern_Alice\\MRK_Mount_Riddock\\Infrastructure\\Server_Upload\\2021\\pdf_maps\n",
      " -- No maps located in .....  U:\\Pastoral_Districts\\Northern_Alice\\MSK_Mount_Skinner\\Infrastructure\\Server_Upload\\2021\\pdf_maps\n",
      " -- No maps located in .....  U:\\Pastoral_Districts\\Northern_Alice\\NHV_Newhaven\\Infrastructure\\Server_Upload\\2021\\pdf_maps\n",
      " -- No maps located in .....  U:\\Pastoral_Districts\\Northern_Alice\\NPB_Napperby\\Infrastructure\\Server_Upload\\2021\\pdf_maps\n",
      " -- No maps located in .....  U:\\Pastoral_Districts\\Northern_Alice\\NTJ_Neutral_Junction\\Infrastructure\\Server_Upload\\2021\\pdf_maps\n",
      " -- No maps located in .....  U:\\Pastoral_Districts\\Northern_Alice\\NWT_Narwietooma\\Infrastructure\\Server_Upload\\2021\\pdf_maps\n",
      " -- No maps located in .....  U:\\Pastoral_Districts\\Northern_Alice\\OMD_Old_MacDonald_Downs\\Infrastructure\\Server_Upload\\2021\\pdf_maps\n",
      " -- No maps located in .....  U:\\Pastoral_Districts\\Northern_Alice\\PNH_Pine_Hill\\Infrastructure\\Server_Upload\\2021\\pdf_maps\n",
      " -- No maps located in .....  U:\\Pastoral_Districts\\Northern_Alice\\STL_Stirling\\Infrastructure\\Server_Upload\\2021\\pdf_maps\n",
      " -- No maps located in .....  U:\\Pastoral_Districts\\Northern_Alice\\TGN_The_Garden\\Infrastructure\\Server_Upload\\2021\\pdf_maps\n",
      " -- No maps located in .....  U:\\Pastoral_Districts\\Northern_Alice\\WDG_Woodgreen\\Infrastructure\\Server_Upload\\2021\\pdf_maps\n",
      " -- No maps located in .....  U:\\Pastoral_Districts\\Northern_Alice\\YBH_Yambah\\Infrastructure\\Server_Upload\\2021\\pdf_maps\n",
      " -- No maps located in .....  U:\\Pastoral_Districts\\Plenty\\AMO_Ammaroo\\Infrastructure\\Server_Upload\\2021\\pdf_maps\n",
      " -- No maps located in .....  U:\\Pastoral_Districts\\Plenty\\APY_Arapunya\\Infrastructure\\Server_Upload\\2021\\pdf_maps\n",
      " -- No maps located in .....  U:\\Pastoral_Districts\\Plenty\\ARG_Argadargada\\Infrastructure\\Server_Upload\\2021\\pdf_maps\n",
      " -- No maps located in .....  U:\\Pastoral_Districts\\Plenty\\DRD_Derry_Downs\\Infrastructure\\Server_Upload\\2021\\pdf_maps\n",
      " -- No maps located in .....  U:\\Pastoral_Districts\\Plenty\\HKT_Huckitta\\Infrastructure\\Server_Upload\\2021\\pdf_maps\n",
      " -- No maps located in .....  U:\\Pastoral_Districts\\Plenty\\IDA_Indiana\\Infrastructure\\Server_Upload\\2021\\pdf_maps\n",
      " -- No maps located in .....  U:\\Pastoral_Districts\\Plenty\\JKA_Jinka\\Infrastructure\\Server_Upload\\2021\\pdf_maps\n",
      " -- No maps located in .....  U:\\Pastoral_Districts\\Plenty\\JVS_Jervois\\Infrastructure\\Server_Upload\\2021\\pdf_maps\n",
      " -- No maps located in .....  U:\\Pastoral_Districts\\Plenty\\LCC_Lucy_Creek\\Infrastructure\\Server_Upload\\2021\\pdf_maps\n",
      " -- No maps located in .....  U:\\Pastoral_Districts\\Plenty\\MNC_Manners_Creek\\Infrastructure\\Server_Upload\\2021\\pdf_maps\n",
      " -- No maps located in .....  U:\\Pastoral_Districts\\Plenty\\MQA_Marqua\\Infrastructure\\Server_Upload\\2021\\pdf_maps\n",
      " -- No maps located in .....  U:\\Pastoral_Districts\\Plenty\\OTP_Ooratippra\\Infrastructure\\Server_Upload\\2021\\pdf_maps\n",
      " -- No maps located in .....  U:\\Pastoral_Districts\\Plenty\\TBM_Tobermorey\\Infrastructure\\Server_Upload\\2021\\pdf_maps\n",
      " -- No maps located in .....  U:\\Pastoral_Districts\\Plenty\\TLD_Tarlton_Downs\\Infrastructure\\Server_Upload\\2021\\pdf_maps\n",
      " -- No maps located in .....  U:\\Pastoral_Districts\\Roper\\BGR_Big_River\\Infrastructure\\Server_Upload\\2021\\pdf_maps\n",
      " -- No maps located in .....  U:\\Pastoral_Districts\\Roper\\CNW_Conway\\Infrastructure\\Server_Upload\\2021\\pdf_maps\n",
      " -- No maps located in .....  U:\\Pastoral_Districts\\Roper\\FYF_Flying_Fox\\Infrastructure\\Server_Upload\\2021\\pdf_maps\n",
      " -- No maps located in .....  U:\\Pastoral_Districts\\Roper\\GDL_Goondooloo\\Infrastructure\\Server_Upload\\2021\\pdf_maps\n",
      " -- No maps located in .....  U:\\Pastoral_Districts\\Roper\\LSD_Lonesome_Dove\\Infrastructure\\Server_Upload\\2021\\pdf_maps\n",
      " -- No maps located in .....  U:\\Pastoral_Districts\\Roper\\MNU_Mainoru\\Infrastructure\\Server_Upload\\2021\\pdf_maps\n",
      " -- No maps located in .....  U:\\Pastoral_Districts\\Roper\\MOK_Moroak\\Infrastructure\\Server_Upload\\2021\\pdf_maps\n",
      " -- No maps located in .....  U:\\Pastoral_Districts\\Roper\\MTM_Mount_McMinn\\Infrastructure\\Server_Upload\\2021\\pdf_maps\n",
      " -- No maps located in .....  U:\\Pastoral_Districts\\Roper\\MTV_Mountain_Valley\\Infrastructure\\Server_Upload\\2021\\pdf_maps\n",
      " -- No maps located in .....  U:\\Pastoral_Districts\\Roper\\NML_Namul_Namul\\Infrastructure\\Server_Upload\\2021\\pdf_maps\n",
      " -- No maps located in .....  U:\\Pastoral_Districts\\Roper\\WLO_Wongalara\\Infrastructure\\Server_Upload\\2021\\pdf_maps\n",
      " -- No maps located in .....  U:\\Pastoral_Districts\\Southern_Alice\\ADO_Andado\\Infrastructure\\Server_Upload\\2021\\pdf_maps\n",
      " -- No maps located in .....  U:\\Pastoral_Districts\\Southern_Alice\\AGD_Angas_Downs\\Infrastructure\\Server_Upload\\2021\\pdf_maps\n",
      " -- No maps located in .....  U:\\Pastoral_Districts\\Southern_Alice\\ALB_Allambi\\Infrastructure\\Server_Upload\\2021\\pdf_maps\n",
      " -- No maps located in .....  U:\\Pastoral_Districts\\Southern_Alice\\CTS_Curtin_Springs\\Infrastructure\\Server_Upload\\2021\\pdf_maps\n",
      " -- No maps located in .....  U:\\Pastoral_Districts\\Southern_Alice\\DWL_Deep_Well\\Infrastructure\\Server_Upload\\2021\\pdf_maps\n",
      " -- No maps located in .....  U:\\Pastoral_Districts\\Southern_Alice\\EDA_Erldunda\\Infrastructure\\Server_Upload\\2021\\pdf_maps\n",
      " -- No maps located in .....  U:\\Pastoral_Districts\\Southern_Alice\\HBY_Henbury\\Infrastructure\\Server_Upload\\2021\\pdf_maps\n",
      " -- No maps located in .....  U:\\Pastoral_Districts\\Southern_Alice\\HSB_Horseshoe_Bend\\Infrastructure\\Server_Upload\\2021\\pdf_maps\n",
      " -- No maps located in .....  U:\\Pastoral_Districts\\Southern_Alice\\ICR_Idracowra\\Infrastructure\\Server_Upload\\2021\\pdf_maps\n",
      " -- No maps located in .....  U:\\Pastoral_Districts\\Southern_Alice\\LDV_Lyndavale\\Infrastructure\\Server_Upload\\2021\\pdf_maps\n",
      " -- No maps located in .....  U:\\Pastoral_Districts\\Southern_Alice\\LLC_Lilla_Creek\\Infrastructure\\Server_Upload\\2021\\pdf_maps\n",
      " -- No maps located in .....  U:\\Pastoral_Districts\\Southern_Alice\\MCV_Mount_Cavenagh\\Infrastructure\\Server_Upload\\2021\\pdf_maps\n",
      " -- No maps located in .....  U:\\Pastoral_Districts\\Southern_Alice\\MEZ_Mount_Ebenezer\\Infrastructure\\Server_Upload\\2021\\pdf_maps\n",
      " -- No maps located in .....  U:\\Pastoral_Districts\\Southern_Alice\\MGP_Mulga_Park\\Infrastructure\\Server_Upload\\2021\\pdf_maps\n",
      " -- No maps located in .....  U:\\Pastoral_Districts\\Southern_Alice\\MVL_Maryvale\\Infrastructure\\Server_Upload\\2021\\pdf_maps\n",
      " -- No maps located in .....  U:\\Pastoral_Districts\\Southern_Alice\\NCN_New_Crown\\Infrastructure\\Server_Upload\\2021\\pdf_maps\n"
     ]
    },
    {
     "name": "stdout",
     "output_type": "stream",
     "text": [
      " -- No maps located in .....  U:\\Pastoral_Districts\\Southern_Alice\\NMY_Numery\\Infrastructure\\Server_Upload\\2021\\pdf_maps\n",
      " -- No maps located in .....  U:\\Pastoral_Districts\\Southern_Alice\\ORC_Orange_Creek\\Infrastructure\\Server_Upload\\2021\\pdf_maps\n",
      " -- No maps located in .....  U:\\Pastoral_Districts\\Southern_Alice\\OWS_Owen_Springs\\Infrastructure\\Server_Upload\\2021\\pdf_maps\n",
      " -- No maps located in .....  U:\\Pastoral_Districts\\Southern_Alice\\PMV_Palmer_Valley\\Infrastructure\\Server_Upload\\2021\\pdf_maps\n",
      " -- No maps located in .....  U:\\Pastoral_Districts\\Southern_Alice\\RGW_Ringwood\\Infrastructure\\Server_Upload\\2021\\pdf_maps\n",
      " -- No maps located in .....  U:\\Pastoral_Districts\\Southern_Alice\\TDR_Todd_River\\Infrastructure\\Server_Upload\\2021\\pdf_maps\n",
      " -- No maps located in .....  U:\\Pastoral_Districts\\Southern_Alice\\UBR_Umbeara\\Infrastructure\\Server_Upload\\2021\\pdf_maps\n",
      " -- No maps located in .....  U:\\Pastoral_Districts\\Southern_Alice\\UDL_Undoolya\\Infrastructure\\Server_Upload\\2021\\pdf_maps\n",
      " -- No maps located in .....  U:\\Pastoral_Districts\\Southern_Alice\\VTD_Victory_Downs\\Infrastructure\\Server_Upload\\2021\\pdf_maps\n",
      " -- No maps located in .....  U:\\Pastoral_Districts\\Sturt_Plateau\\AGO_Avago\\Infrastructure\\Server_Upload\\2021\\pdf_maps\n",
      " -- No maps located in .....  U:\\Pastoral_Districts\\Sturt_Plateau\\BCD_Buchanan_Downs\\Infrastructure\\Server_Upload\\2021\\pdf_maps\n",
      " -- No maps located in .....  U:\\Pastoral_Districts\\Sturt_Plateau\\BDC_Birdum_Creek\\Infrastructure\\Server_Upload\\2021\\pdf_maps\n",
      " -- No maps located in .....  U:\\Pastoral_Districts\\Sturt_Plateau\\BIB_Birrimba\\Infrastructure\\Server_Upload\\2021\\pdf_maps\n",
      " -- No maps located in .....  U:\\Pastoral_Districts\\Sturt_Plateau\\BJO_Banjo\\Infrastructure\\Server_Upload\\2021\\pdf_maps\n",
      " -- No maps located in .....  U:\\Pastoral_Districts\\Sturt_Plateau\\BWD_Bloodwood_Downs\\Infrastructure\\Server_Upload\\2021\\pdf_maps\n",
      " -- No maps located in .....  U:\\Pastoral_Districts\\Sturt_Plateau\\CWC_Cow_Creek\\Infrastructure\\Server_Upload\\2021\\pdf_maps\n",
      " -- No maps located in .....  U:\\Pastoral_Districts\\Sturt_Plateau\\DGN_Dungowan\\Infrastructure\\Server_Upload\\2021\\pdf_maps\n",
      " -- No maps located in .....  U:\\Pastoral_Districts\\Sturt_Plateau\\DYR_Dry_River\\Infrastructure\\Server_Upload\\2021\\pdf_maps\n",
      " -- No maps located in .....  U:\\Pastoral_Districts\\Sturt_Plateau\\FOH_Forrest_Hill\\Infrastructure\\Server_Upload\\2021\\pdf_maps\n",
      " -- No maps located in .....  U:\\Pastoral_Districts\\Sturt_Plateau\\GNK_Gilnockie\\Infrastructure\\Server_Upload\\2021\\pdf_maps\n",
      " -- No maps located in .....  U:\\Pastoral_Districts\\Sturt_Plateau\\GRW_Gorrie\\Infrastructure\\Server_Upload\\2021\\pdf_maps\n",
      " -- No maps located in .....  U:\\Pastoral_Districts\\Sturt_Plateau\\HDV_Hidden_Valley\\Infrastructure\\Server_Upload\\2021\\pdf_maps\n",
      " -- No maps located in .....  U:\\Pastoral_Districts\\Sturt_Plateau\\HFD_Hayfield\\Infrastructure\\Server_Upload\\2021\\pdf_maps\n",
      " -- No maps located in .....  U:\\Pastoral_Districts\\Sturt_Plateau\\KLA_Kalala\\Infrastructure\\Server_Upload\\2021\\pdf_maps\n",
      " -- No maps located in .....  U:\\Pastoral_Districts\\Sturt_Plateau\\LKF_Lakefield\\Infrastructure\\Server_Upload\\2021\\pdf_maps\n",
      " -- No maps located in .....  U:\\Pastoral_Districts\\Sturt_Plateau\\LRZ_Larrizona\\Infrastructure\\Server_Upload\\2021\\pdf_maps\n",
      " -- No maps located in .....  U:\\Pastoral_Districts\\Sturt_Plateau\\MDC_Middle_Creek\\Infrastructure\\Server_Upload\\2021\\pdf_maps\n",
      " -- No maps located in .....  U:\\Pastoral_Districts\\Sturt_Plateau\\MGD_Margaret_Downs\\Infrastructure\\Server_Upload\\2021\\pdf_maps\n",
      " -- No maps located in .....  U:\\Pastoral_Districts\\Sturt_Plateau\\MRJ_Murranji\\Infrastructure\\Server_Upload\\2021\\pdf_maps\n",
      " -- No maps located in .....  U:\\Pastoral_Districts\\Sturt_Plateau\\MYF_Maryfield\\Infrastructure\\Server_Upload\\2021\\pdf_maps\n",
      " -- No maps located in .....  U:\\Pastoral_Districts\\Sturt_Plateau\\NEN_Nenen\\Infrastructure\\Server_Upload\\2021\\pdf_maps\n",
      " -- No maps located in .....  U:\\Pastoral_Districts\\Sturt_Plateau\\PRV_Providence\\Infrastructure\\Server_Upload\\2021\\pdf_maps\n",
      " -- No maps located in .....  U:\\Pastoral_Districts\\Sturt_Plateau\\SDC_Sunday_Creek\\Infrastructure\\Server_Upload\\2021\\pdf_maps\n",
      " -- No maps located in .....  U:\\Pastoral_Districts\\Sturt_Plateau\\SDE_Shenandoah_East\\Infrastructure\\Server_Upload\\2021\\pdf_maps\n",
      " -- No maps located in .....  U:\\Pastoral_Districts\\Sturt_Plateau\\SDH_Shenandoah\\Infrastructure\\Server_Upload\\2021\\pdf_maps\n",
      " -- No maps located in .....  U:\\Pastoral_Districts\\Sturt_Plateau\\TLE_Tarlee\\Infrastructure\\Server_Upload\\2021\\pdf_maps\n",
      " -- No maps located in .....  U:\\Pastoral_Districts\\Sturt_Plateau\\VMH_Vermelha\\Infrastructure\\Server_Upload\\2021\\pdf_maps\n",
      " -- No maps located in .....  U:\\Pastoral_Districts\\Sturt_Plateau\\WCW_Western_Creek\\Infrastructure\\Server_Upload\\2021\\pdf_maps\n",
      " -- No maps located in .....  U:\\Pastoral_Districts\\Sturt_Plateau\\WYW_Wyworrie\\Infrastructure\\Server_Upload\\2021\\pdf_maps\n",
      " -- No maps located in .....  U:\\Pastoral_Districts\\Tennant_Creek\\ATW_Annitowa\\Infrastructure\\Server_Upload\\2021\\pdf_maps\n",
      " -- No maps located in .....  U:\\Pastoral_Districts\\Tennant_Creek\\EKD_Elkedra\\Infrastructure\\Server_Upload\\2021\\pdf_maps\n",
      " -- No maps located in .....  U:\\Pastoral_Districts\\Tennant_Creek\\EPN_Epenarra\\Infrastructure\\Server_Upload\\2021\\pdf_maps\n",
      " -- No maps located in .....  U:\\Pastoral_Districts\\Tennant_Creek\\KRD_Kurundi\\Infrastructure\\Server_Upload\\2021\\pdf_maps\n",
      " -- No maps located in .....  U:\\Pastoral_Districts\\Tennant_Creek\\MYD_Murray_Downs\\Infrastructure\\Server_Upload\\2021\\pdf_maps\n",
      " -- No maps located in .....  U:\\Pastoral_Districts\\Tennant_Creek\\PLC_Phillip_Creek\\Infrastructure\\Server_Upload\\2021\\pdf_maps\n",
      " -- No maps located in .....  U:\\Pastoral_Districts\\Tennant_Creek\\SGN_Singleton\\Infrastructure\\Server_Upload\\2021\\pdf_maps\n",
      " -- No maps located in .....  U:\\Pastoral_Districts\\Tennant_Creek\\TNC_Tennant_Creek\\Infrastructure\\Server_Upload\\2021\\pdf_maps\n",
      " -- No maps located in .....  U:\\Pastoral_Districts\\VRD\\AVN_Auvergne\\Infrastructure\\Server_Upload\\2021\\pdf_maps\n",
      " -- No maps located in .....  U:\\Pastoral_Districts\\VRD\\BDA_Bunda\\Infrastructure\\Server_Upload\\2021\\pdf_maps\n",
      " -- No maps located in .....  U:\\Pastoral_Districts\\VRD\\BDU_Birrindudu\\Infrastructure\\Server_Upload\\2021\\pdf_maps\n",
      " -- No maps located in .....  U:\\Pastoral_Districts\\VRD\\BLR_Bullo_River\\Infrastructure\\Server_Upload\\2021\\pdf_maps\n",
      " -- No maps located in .....  U:\\Pastoral_Districts\\VRD\\CFD_Camfield\\Infrastructure\\Server_Upload\\2021\\pdf_maps\n",
      " -- No maps located in .....  U:\\Pastoral_Districts\\VRD\\CTC_Cattle_Creek\\Infrastructure\\Server_Upload\\2021\\pdf_maps\n",
      " -- No maps located in .....  U:\\Pastoral_Districts\\VRD\\DLM_Delamere\\Infrastructure\\Server_Upload\\2021\\pdf_maps\n",
      " -- No maps located in .....  U:\\Pastoral_Districts\\VRD\\HBR_Humbert_River\\Infrastructure\\Server_Upload\\2021\\pdf_maps\n",
      " -- No maps located in .....  U:\\Pastoral_Districts\\VRD\\INV_Inverway\\Infrastructure\\Server_Upload\\2021\\pdf_maps\n",
      " -- No maps located in .....  U:\\Pastoral_Districts\\VRD\\KKB_Kirkimbie\\Infrastructure\\Server_Upload\\2021\\pdf_maps\n",
      " -- No maps located in .....  U:\\Pastoral_Districts\\VRD\\KLY_Killarney\\Infrastructure\\Server_Upload\\2021\\pdf_maps\n",
      " -- No maps located in .....  U:\\Pastoral_Districts\\VRD\\LBY_Limbunya\\Infrastructure\\Server_Upload\\2021\\pdf_maps\n",
      " -- No maps located in .....  U:\\Pastoral_Districts\\VRD\\LEG_Legune\\Infrastructure\\Server_Upload\\2021\\pdf_maps\n",
      " -- No maps located in .....  U:\\Pastoral_Districts\\VRD\\MJE_Montejinni_East\\Infrastructure\\Server_Upload\\2021\\pdf_maps\n",
      " -- No maps located in .....  U:\\Pastoral_Districts\\VRD\\MJW_Montejinni_West\\Infrastructure\\Server_Upload\\2021\\pdf_maps\n",
      " -- No maps located in .....  U:\\Pastoral_Districts\\VRD\\NWY_Newry\\Infrastructure\\Server_Upload\\2021\\pdf_maps\n",
      " -- No maps located in .....  U:\\Pastoral_Districts\\VRD\\RSW_Rosewood\\Infrastructure\\Server_Upload\\2021\\pdf_maps\n",
      " -- No maps located in .....  U:\\Pastoral_Districts\\VRD\\RVN_Riveren\\Infrastructure\\Server_Upload\\2021\\pdf_maps\n",
      " -- No maps located in .....  U:\\Pastoral_Districts\\VRD\\SPH_Spirit_Hills\\Infrastructure\\Server_Upload\\2021\\pdf_maps\n",
      " -- No maps located in .....  U:\\Pastoral_Districts\\VRD\\SPJ_Suplejack\\Infrastructure\\Server_Upload\\2021\\pdf_maps\n",
      " -- No maps located in .....  U:\\Pastoral_Districts\\VRD\\VRD_Victoria_River_Downs\\Infrastructure\\Server_Upload\\2021\\pdf_maps\n",
      " -- No maps located in .....  U:\\Pastoral_Districts\\VRD\\WGI_Wombungi\\Infrastructure\\Server_Upload\\2021\\pdf_maps\n",
      " -- No maps located in .....  U:\\Pastoral_Districts\\VRD\\WLM_Wallamunga\\Infrastructure\\Server_Upload\\2021\\pdf_maps\n",
      " -- No maps located in .....  U:\\Pastoral_Districts\\VRD\\WTL_Waterloo\\Infrastructure\\Server_Upload\\2021\\pdf_maps\n",
      " -- No maps located in .....  U:\\Pastoral_Districts\\VRD\\WVH_Wave_Hill\\Infrastructure\\Server_Upload\\2021\\pdf_maps\n"
     ]
    }
   ],
   "source": [
    "%run step1_1_initiate_rmb_infrastructure_transition_pipeline.py -y 2021"
   ]
  },
  {
   "cell_type": "markdown",
   "metadata": {},
   "source": [
    "# Run RMB Infrastructure Migration Pipeline"
   ]
  },
  {
   "cell_type": "markdown",
   "metadata": {},
   "source": [
    "#### Navigate to the RMB infrastructure migration pipeline scripts"
   ]
  },
  {
   "cell_type": "code",
   "execution_count": null,
   "metadata": {},
   "outputs": [],
   "source": [
    "cd ../../rmb_infrastructure_migration_pipeline/code"
   ]
  },
  {
   "cell_type": "code",
   "execution_count": null,
   "metadata": {},
   "outputs": [],
   "source": [
    "# run the pipeline help\n",
    "%run step2_1_initiate_rmb_infrastructure_migration_pipeline.py -h"
   ]
  },
  {
   "cell_type": "markdown",
   "metadata": {},
   "source": [
    "## Test"
   ]
  },
  {
   "cell_type": "code",
   "execution_count": null,
   "metadata": {},
   "outputs": [],
   "source": [
    "%run step2_1_initiate_rmb_infrastructure_migration_pipeline.py -y 2021 \\\n",
    "-t Z:\\Scratch\\Zonal_Stats_Pipeline\\rmb_infrastructure_upload\\test_env\\Transition \\\n",
    "    -pd Z:\\Scratch\\Rob\\pastoral_districts_test_env\\Pastoral_Districts \\\n",
    "        -i Z:\\Scratch\\Rob\\pi\\bu \\\n",
    "            -w Z:\\Scratch\\Rob\\pi\n",
    "    "
   ]
  },
  {
   "cell_type": "markdown",
   "metadata": {},
   "source": [
    "## Acutal"
   ]
  },
  {
   "cell_type": "code",
   "execution_count": null,
   "metadata": {},
   "outputs": [],
   "source": [
    "#run the RMB infrastructure migration pipeline\n",
    "%run step2_1_initiate_rmb_infrastructure_migration_pipeline.py -y 2021 \\\n"
   ]
  },
  {
   "cell_type": "code",
   "execution_count": null,
   "metadata": {},
   "outputs": [],
   "source": []
  },
  {
   "cell_type": "code",
   "execution_count": null,
   "metadata": {},
   "outputs": [],
   "source": []
  }
 ],
 "metadata": {
  "kernelspec": {
   "display_name": "Python 3",
   "language": "python",
   "name": "python3"
  },
  "language_info": {
   "codemirror_mode": {
    "name": "ipython",
    "version": 3
   },
   "file_extension": ".py",
   "mimetype": "text/x-python",
   "name": "python",
   "nbconvert_exporter": "python",
   "pygments_lexer": "ipython3",
   "version": "3.7.7"
  }
 },
 "nbformat": 4,
 "nbformat_minor": 4
}
